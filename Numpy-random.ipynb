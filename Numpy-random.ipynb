{
 "cells": [
  {
   "cell_type": "code",
   "execution_count": 1,
   "id": "61474694",
   "metadata": {},
   "outputs": [],
   "source": [
    "import numpy as np"
   ]
  },
  {
   "cell_type": "markdown",
   "id": "21068f53",
   "metadata": {},
   "source": [
    "### 1. Write a NumPy program to generate five random numbers from the normal distribution. "
   ]
  },
  {
   "cell_type": "code",
   "execution_count": 2,
   "id": "e7d2dbaa",
   "metadata": {},
   "outputs": [
    {
     "data": {
      "text/plain": [
       "array([ 0.60750057,  2.37476105,  0.30117152, -0.76736944,  0.19158171])"
      ]
     },
     "execution_count": 2,
     "metadata": {},
     "output_type": "execute_result"
    }
   ],
   "source": [
    "np.random.normal(size=5)"
   ]
  },
  {
   "cell_type": "markdown",
   "id": "37c37d95",
   "metadata": {},
   "source": [
    "### 2. Write a NumPy program to generate six random integers between 10 and 30."
   ]
  },
  {
   "cell_type": "code",
   "execution_count": 4,
   "id": "2197bf12",
   "metadata": {},
   "outputs": [
    {
     "data": {
      "text/plain": [
       "array([12, 23, 12, 12, 11])"
      ]
     },
     "execution_count": 4,
     "metadata": {},
     "output_type": "execute_result"
    }
   ],
   "source": [
    "np.random.randint(low=10, high=30,size=5)"
   ]
  },
  {
   "cell_type": "markdown",
   "id": "df7c531d",
   "metadata": {},
   "source": [
    "### 3. Write a NumPy program to create a 3x3x3 array with random values. "
   ]
  },
  {
   "cell_type": "code",
   "execution_count": 5,
   "id": "0c13b545",
   "metadata": {},
   "outputs": [
    {
     "data": {
      "text/plain": [
       "array([[[0.50960295, 0.03106232, 0.50105492],\n",
       "        [0.4077624 , 0.18928864, 0.39395168],\n",
       "        [0.52428469, 0.4491364 , 0.65954647]],\n",
       "\n",
       "       [[0.96297227, 0.72655459, 0.8712161 ],\n",
       "        [0.28583725, 0.01742049, 0.53908436],\n",
       "        [0.27611468, 0.55738241, 0.80435388]],\n",
       "\n",
       "       [[0.31813432, 0.85832029, 0.73679496],\n",
       "        [0.91657358, 0.83773311, 0.26293926],\n",
       "        [0.42416722, 0.00931346, 0.04032197]]])"
      ]
     },
     "execution_count": 5,
     "metadata": {},
     "output_type": "execute_result"
    }
   ],
   "source": [
    "np.random.random((3,3,3))"
   ]
  },
  {
   "cell_type": "code",
   "execution_count": 6,
   "id": "58f496b2",
   "metadata": {},
   "outputs": [
    {
     "data": {
      "text/plain": [
       "array([[[0.36507761, 0.49286733, 0.20001021, 0.31626495],\n",
       "        [0.90834979, 0.77581974, 0.3196439 , 0.44113949],\n",
       "        [0.25452276, 0.2065319 , 0.79737924, 0.63287246],\n",
       "        [0.66381736, 0.33868589, 0.43098753, 0.62755439]],\n",
       "\n",
       "       [[0.83397206, 0.57736817, 0.22550755, 0.07059679],\n",
       "        [0.38610676, 0.05703019, 0.80562592, 0.25313369],\n",
       "        [0.74667158, 0.51731832, 0.59557987, 0.33244219],\n",
       "        [0.70243436, 0.62772884, 0.97796764, 0.09509374]],\n",
       "\n",
       "       [[0.69900398, 0.90349616, 0.72506702, 0.10809653],\n",
       "        [0.5839832 , 0.09834721, 0.66753126, 0.9184125 ],\n",
       "        [0.10853352, 0.43307882, 0.32683335, 0.00284337],\n",
       "        [0.38116974, 0.42336376, 0.77753717, 0.46226772]],\n",
       "\n",
       "       [[0.31486335, 0.92774905, 0.62158446, 0.70609202],\n",
       "        [0.44526866, 0.7203696 , 0.62650248, 0.00885702],\n",
       "        [0.21898695, 0.36705941, 0.17017468, 0.06275954],\n",
       "        [0.07263086, 0.90116183, 0.69445462, 0.5149881 ]]])"
      ]
     },
     "execution_count": 6,
     "metadata": {},
     "output_type": "execute_result"
    }
   ],
   "source": [
    "np.random.random((4,4,4))"
   ]
  },
  {
   "cell_type": "markdown",
   "id": "65c75c7a",
   "metadata": {},
   "source": [
    "### 4. Write a NumPy program to create a 5x5 array with random values and find the minimum and maximum values."
   ]
  },
  {
   "cell_type": "code",
   "execution_count": 7,
   "id": "554f8493",
   "metadata": {},
   "outputs": [
    {
     "data": {
      "text/plain": [
       "array([[0.30962536, 0.45255868, 0.46731968, 0.02723576, 0.79688861],\n",
       "       [0.77739935, 0.94672475, 0.01148864, 0.30829996, 0.89205938],\n",
       "       [0.88356254, 0.40812064, 0.43851251, 0.45403106, 0.047205  ],\n",
       "       [0.97321631, 0.92419583, 0.17927018, 0.19694285, 0.23824307],\n",
       "       [0.2272615 , 0.18452469, 0.44516066, 0.62158284, 0.14340462]])"
      ]
     },
     "execution_count": 7,
     "metadata": {},
     "output_type": "execute_result"
    }
   ],
   "source": [
    "a = np.random.random((5,5))\n",
    "a"
   ]
  },
  {
   "cell_type": "code",
   "execution_count": 9,
   "id": "b02e590c",
   "metadata": {},
   "outputs": [
    {
     "data": {
      "text/plain": [
       "0.011488638738262114"
      ]
     },
     "execution_count": 9,
     "metadata": {},
     "output_type": "execute_result"
    }
   ],
   "source": [
    "a.min()"
   ]
  },
  {
   "cell_type": "code",
   "execution_count": 10,
   "id": "e71a517f",
   "metadata": {},
   "outputs": [
    {
     "data": {
      "text/plain": [
       "0.973216308857757"
      ]
     },
     "execution_count": 10,
     "metadata": {},
     "output_type": "execute_result"
    }
   ],
   "source": [
    "a.max()"
   ]
  },
  {
   "cell_type": "markdown",
   "id": "814c07ee",
   "metadata": {},
   "source": [
    "### 5. Write a NumPy program to create a random 10x4 array and extract the first five rows of the array and store them into a variable."
   ]
  },
  {
   "cell_type": "code",
   "execution_count": 11,
   "id": "960d2f5f",
   "metadata": {},
   "outputs": [],
   "source": [
    "a = np.random.random((10,4))"
   ]
  },
  {
   "cell_type": "code",
   "execution_count": 12,
   "id": "85797123",
   "metadata": {},
   "outputs": [
    {
     "data": {
      "text/plain": [
       "array([[0.06072284, 0.19088761, 0.69030222, 0.69975072],\n",
       "       [0.60679133, 0.28427097, 0.31993079, 0.0205413 ],\n",
       "       [0.64473005, 0.97859664, 0.00643175, 0.01630362],\n",
       "       [0.14688667, 0.12663727, 0.78642636, 0.07793446],\n",
       "       [0.80278445, 0.59157064, 0.151931  , 0.65042375],\n",
       "       [0.34840202, 0.83154054, 0.22987062, 0.49135919],\n",
       "       [0.6666413 , 0.04584332, 0.89262185, 0.25199566],\n",
       "       [0.87880293, 0.17211357, 0.51423662, 0.51056975],\n",
       "       [0.2550095 , 0.04824198, 0.06271893, 0.8605399 ],\n",
       "       [0.65833458, 0.49809153, 0.68899368, 0.77519548]])"
      ]
     },
     "execution_count": 12,
     "metadata": {},
     "output_type": "execute_result"
    }
   ],
   "source": [
    "a"
   ]
  },
  {
   "cell_type": "code",
   "execution_count": 15,
   "id": "a55a6d0f",
   "metadata": {},
   "outputs": [],
   "source": [
    "b = a[:5]"
   ]
  },
  {
   "cell_type": "code",
   "execution_count": 16,
   "id": "70ca813f",
   "metadata": {},
   "outputs": [
    {
     "data": {
      "text/plain": [
       "array([[0.06072284, 0.19088761, 0.69030222, 0.69975072],\n",
       "       [0.60679133, 0.28427097, 0.31993079, 0.0205413 ],\n",
       "       [0.64473005, 0.97859664, 0.00643175, 0.01630362],\n",
       "       [0.14688667, 0.12663727, 0.78642636, 0.07793446],\n",
       "       [0.80278445, 0.59157064, 0.151931  , 0.65042375]])"
      ]
     },
     "execution_count": 16,
     "metadata": {},
     "output_type": "execute_result"
    }
   ],
   "source": [
    "# First 5 rows of above array\n",
    "b"
   ]
  },
  {
   "cell_type": "markdown",
   "id": "53f6ca4f",
   "metadata": {},
   "source": [
    "### 6. Write a NumPy program to shuffle numbers between 0 and 10 (inclusive)"
   ]
  },
  {
   "cell_type": "code",
   "execution_count": 17,
   "id": "30de9623",
   "metadata": {},
   "outputs": [
    {
     "name": "stdout",
     "output_type": "stream",
     "text": [
      "The number before shuffle : [0 1 2 3 4 5 6 7 8 9]\n"
     ]
    }
   ],
   "source": [
    "a= np.arange(10)\n",
    "print('The number before shuffle :',a)"
   ]
  },
  {
   "cell_type": "code",
   "execution_count": 20,
   "id": "04c4f305",
   "metadata": {},
   "outputs": [],
   "source": [
    "np.random.shuffle(a)"
   ]
  },
  {
   "cell_type": "code",
   "execution_count": 21,
   "id": "b74b8a87",
   "metadata": {},
   "outputs": [
    {
     "data": {
      "text/plain": [
       "array([4, 0, 5, 7, 1, 2, 6, 3, 8, 9])"
      ]
     },
     "execution_count": 21,
     "metadata": {},
     "output_type": "execute_result"
    }
   ],
   "source": [
    "a"
   ]
  },
  {
   "cell_type": "code",
   "execution_count": 22,
   "id": "63c6a025",
   "metadata": {},
   "outputs": [
    {
     "name": "stdout",
     "output_type": "stream",
     "text": [
      "The same result using permutation\n"
     ]
    },
    {
     "data": {
      "text/plain": [
       "array([5, 8, 9, 3, 2, 7, 1, 0, 4, 6])"
      ]
     },
     "execution_count": 22,
     "metadata": {},
     "output_type": "execute_result"
    }
   ],
   "source": [
    "print('The same result using permutation')\n",
    "np.random.permutation(a)"
   ]
  },
  {
   "cell_type": "markdown",
   "id": "42bfcc3f",
   "metadata": {},
   "source": [
    "### 7. Write a NumPy program to normalize a 3x3 random matrix."
   ]
  },
  {
   "cell_type": "code",
   "execution_count": 25,
   "id": "7cf81d14",
   "metadata": {},
   "outputs": [
    {
     "data": {
      "text/plain": [
       "array([[0.03602391, 0.05868977, 0.13977286],\n",
       "       [0.08390881, 0.19354547, 0.21722503],\n",
       "       [0.89853838, 0.22137115, 0.28019275]])"
      ]
     },
     "execution_count": 25,
     "metadata": {},
     "output_type": "execute_result"
    }
   ],
   "source": [
    "a = np.random.random((3,3))\n",
    "a"
   ]
  },
  {
   "cell_type": "code",
   "execution_count": 26,
   "id": "733e2e11",
   "metadata": {},
   "outputs": [],
   "source": [
    "# Now narmalize the matrix\n",
    "# first findout max and min value from matrix\n",
    "a_max,a_min = a.max(),a.min()"
   ]
  },
  {
   "cell_type": "code",
   "execution_count": 28,
   "id": "a417fc75",
   "metadata": {},
   "outputs": [],
   "source": [
    "a = (a - a_min)/(a_max - a_min)"
   ]
  },
  {
   "cell_type": "code",
   "execution_count": 29,
   "id": "cabbb059",
   "metadata": {},
   "outputs": [
    {
     "name": "stdout",
     "output_type": "stream",
     "text": [
      "After normalization\n"
     ]
    },
    {
     "data": {
      "text/plain": [
       "array([[0.        , 0.02627881, 0.12028661],\n",
       "       [0.05551779, 0.18263062, 0.21008473],\n",
       "       [1.        , 0.21489175, 0.28308955]])"
      ]
     },
     "execution_count": 29,
     "metadata": {},
     "output_type": "execute_result"
    }
   ],
   "source": [
    "print('After normalization')\n",
    "a"
   ]
  },
  {
   "cell_type": "markdown",
   "id": "a602c2a1",
   "metadata": {},
   "source": [
    "### 8. Write a NumPy program to create a random vector of size 10 and sort it."
   ]
  },
  {
   "cell_type": "code",
   "execution_count": 31,
   "id": "0925ca04",
   "metadata": {},
   "outputs": [
    {
     "data": {
      "text/plain": [
       "array([0.17015377, 0.2930003 , 0.04371914, 0.69614747, 0.3415107 ,\n",
       "       0.13368881, 0.43475206, 0.34012438, 0.90456437, 0.94360675])"
      ]
     },
     "execution_count": 31,
     "metadata": {},
     "output_type": "execute_result"
    }
   ],
   "source": [
    "a = np.random.random((10))\n",
    "a"
   ]
  },
  {
   "cell_type": "code",
   "execution_count": 32,
   "id": "a7d50b56",
   "metadata": {},
   "outputs": [],
   "source": [
    "a.sort()"
   ]
  },
  {
   "cell_type": "code",
   "execution_count": 34,
   "id": "586c1112",
   "metadata": {},
   "outputs": [
    {
     "name": "stdout",
     "output_type": "stream",
     "text": [
      "vector after sorting\n"
     ]
    },
    {
     "data": {
      "text/plain": [
       "array([0.04371914, 0.13368881, 0.17015377, 0.2930003 , 0.34012438,\n",
       "       0.3415107 , 0.43475206, 0.69614747, 0.90456437, 0.94360675])"
      ]
     },
     "execution_count": 34,
     "metadata": {},
     "output_type": "execute_result"
    }
   ],
   "source": [
    "print('vector after sorting')\n",
    "a"
   ]
  },
  {
   "cell_type": "markdown",
   "id": "1663fe50",
   "metadata": {},
   "source": [
    "### 9. Write a NumPy program to find the nearest value from a given value in an array."
   ]
  },
  {
   "cell_type": "code",
   "execution_count": 35,
   "id": "4e0af952",
   "metadata": {},
   "outputs": [],
   "source": [
    "x = np.random.uniform(low=1,high=10,size=5)"
   ]
  },
  {
   "cell_type": "code",
   "execution_count": 36,
   "id": "57a06666",
   "metadata": {},
   "outputs": [],
   "source": [
    "near = 4"
   ]
  },
  {
   "cell_type": "code",
   "execution_count": 37,
   "id": "49185072",
   "metadata": {},
   "outputs": [
    {
     "name": "stdout",
     "output_type": "stream",
     "text": [
      "Nearest value is\n"
     ]
    },
    {
     "data": {
      "text/plain": [
       "4.32127277685964"
      ]
     },
     "execution_count": 37,
     "metadata": {},
     "output_type": "execute_result"
    }
   ],
   "source": [
    "print('Nearest value is')\n",
    "nearset_value = x.flat[np.abs(x - near).argmin()]\n",
    "nearset_value"
   ]
  },
  {
   "cell_type": "markdown",
   "id": "963e2e30",
   "metadata": {},
   "source": [
    "### 10. Write a NumPy program to check two random arrays are equal or not. "
   ]
  },
  {
   "cell_type": "code",
   "execution_count": 38,
   "id": "3a76b0c6",
   "metadata": {},
   "outputs": [
    {
     "data": {
      "text/plain": [
       "array([1, 1, 0, 1, 0])"
      ]
     },
     "metadata": {},
     "output_type": "display_data"
    },
    {
     "data": {
      "text/plain": [
       "array([1, 1, 0, 0, 0])"
      ]
     },
     "metadata": {},
     "output_type": "display_data"
    }
   ],
   "source": [
    "a = np.random.randint(0,2,5)\n",
    "b = np.random.randint(0,2,5)\n",
    "display(a,b)"
   ]
  },
  {
   "cell_type": "code",
   "execution_count": 39,
   "id": "0f66ce24",
   "metadata": {},
   "outputs": [
    {
     "data": {
      "text/plain": [
       "False"
      ]
     },
     "execution_count": 39,
     "metadata": {},
     "output_type": "execute_result"
    }
   ],
   "source": [
    "array_equal = np.allclose(a,b)\n",
    "array_equal"
   ]
  },
  {
   "cell_type": "markdown",
   "id": "2dba35ae",
   "metadata": {},
   "source": [
    "### 11. Write a NumPy program to create random vector of size 15 and replace the maximum value by -1. "
   ]
  },
  {
   "cell_type": "code",
   "execution_count": 40,
   "id": "a1a97d99",
   "metadata": {},
   "outputs": [
    {
     "data": {
      "text/plain": [
       "array([0.26058289, 0.40028603, 0.43639503, 0.56482847, 0.02003894,\n",
       "       0.03622398, 0.15569047, 0.72218002, 0.09483762, 0.12405556,\n",
       "       0.23986269, 0.41970816, 0.7294658 , 0.40830145, 0.21898411])"
      ]
     },
     "execution_count": 40,
     "metadata": {},
     "output_type": "execute_result"
    }
   ],
   "source": [
    "a = np.random.random(size=15)\n",
    "a"
   ]
  },
  {
   "cell_type": "code",
   "execution_count": 42,
   "id": "6b2ae341",
   "metadata": {},
   "outputs": [],
   "source": [
    "# now replace max value by -1\n",
    "a[a.argmax()] = -1"
   ]
  },
  {
   "cell_type": "code",
   "execution_count": 43,
   "id": "d8125f70",
   "metadata": {},
   "outputs": [
    {
     "name": "stdout",
     "output_type": "stream",
     "text": [
      "maximum value is replaced by -1\n"
     ]
    },
    {
     "data": {
      "text/plain": [
       "array([ 0.26058289,  0.40028603,  0.43639503,  0.56482847,  0.02003894,\n",
       "        0.03622398,  0.15569047,  0.72218002,  0.09483762,  0.12405556,\n",
       "        0.23986269,  0.41970816, -1.        ,  0.40830145,  0.21898411])"
      ]
     },
     "execution_count": 43,
     "metadata": {},
     "output_type": "execute_result"
    }
   ],
   "source": [
    "print('maximum value is replaced by -1')\n",
    "a"
   ]
  },
  {
   "cell_type": "markdown",
   "id": "e57b58c2",
   "metadata": {},
   "source": [
    "### 12. Write a NumPy program to find point by point distances of a random vector with shape (10,2) representing coordinates. "
   ]
  },
  {
   "cell_type": "markdown",
   "id": "cac9bd33",
   "metadata": {},
   "source": [
    "### 13. Write a NumPy program to find the most frequent value in an array."
   ]
  },
  {
   "cell_type": "code",
   "execution_count": 44,
   "id": "8f7456ed",
   "metadata": {},
   "outputs": [
    {
     "data": {
      "text/plain": [
       "array([2, 3, 4, 1, 3, 1, 1, 3, 1, 1])"
      ]
     },
     "execution_count": 44,
     "metadata": {},
     "output_type": "execute_result"
    }
   ],
   "source": [
    "a = np.random.randint(1,5,10)\n",
    "a"
   ]
  },
  {
   "cell_type": "code",
   "execution_count": 45,
   "id": "2917386d",
   "metadata": {},
   "outputs": [
    {
     "name": "stdout",
     "output_type": "stream",
     "text": [
      "Most frequent number is\n"
     ]
    },
    {
     "data": {
      "text/plain": [
       "1"
      ]
     },
     "execution_count": 45,
     "metadata": {},
     "output_type": "execute_result"
    }
   ],
   "source": [
    "# now find the most repeted number from above array\n",
    "print('Most frequent number is')\n",
    "np.bincount(a).argmax()"
   ]
  },
  {
   "cell_type": "markdown",
   "id": "19249433",
   "metadata": {},
   "source": [
    "### 14. Write a NumPy program to convert cartesian coordinates to polar coordinates of a random 10x2 matrix representing cartesian coordinates"
   ]
  },
  {
   "cell_type": "code",
   "execution_count": 46,
   "id": "fa506d26",
   "metadata": {},
   "outputs": [
    {
     "data": {
      "text/plain": [
       "array([[0.99036219, 0.07985469],\n",
       "       [0.76496375, 0.47218225],\n",
       "       [0.09892821, 0.06383781],\n",
       "       [0.73672563, 0.20669367],\n",
       "       [0.15900558, 0.65057599],\n",
       "       [0.64216386, 0.17573886],\n",
       "       [0.75081712, 0.04230861],\n",
       "       [0.27326937, 0.05829098],\n",
       "       [0.73460604, 0.04005692],\n",
       "       [0.33598368, 0.92396448]])"
      ]
     },
     "execution_count": 46,
     "metadata": {},
     "output_type": "execute_result"
    }
   ],
   "source": [
    "a = np.random.random((10,2))\n",
    "a"
   ]
  },
  {
   "cell_type": "code",
   "execution_count": null,
   "id": "5443562c",
   "metadata": {},
   "outputs": [],
   "source": []
  },
  {
   "cell_type": "markdown",
   "id": "210a7e01",
   "metadata": {},
   "source": [
    "### 15. Write a NumPy program to find the closest value (to a given scalar) in an array."
   ]
  },
  {
   "cell_type": "code",
   "execution_count": 47,
   "id": "bed5bb46",
   "metadata": {},
   "outputs": [
    {
     "data": {
      "text/plain": [
       "array([ 0,  1,  2,  3,  4,  5,  6,  7,  8,  9, 10, 11, 12, 13, 14, 15, 16,\n",
       "       17, 18, 19, 20, 21, 22, 23, 24, 25, 26, 27, 28, 29, 30, 31, 32, 33,\n",
       "       34, 35, 36, 37, 38, 39, 40, 41, 42, 43, 44, 45, 46, 47, 48, 49, 50,\n",
       "       51, 52, 53, 54, 55, 56, 57, 58, 59, 60, 61, 62, 63, 64, 65, 66, 67,\n",
       "       68, 69, 70, 71, 72, 73, 74, 75, 76, 77, 78, 79, 80, 81, 82, 83, 84,\n",
       "       85, 86, 87, 88, 89, 90, 91, 92, 93, 94, 95, 96, 97, 98, 99])"
      ]
     },
     "execution_count": 47,
     "metadata": {},
     "output_type": "execute_result"
    }
   ],
   "source": [
    "a = np.arange(100)\n",
    "a"
   ]
  },
  {
   "cell_type": "code",
   "execution_count": 49,
   "id": "b8b7d68a",
   "metadata": {},
   "outputs": [
    {
     "name": "stdout",
     "output_type": "stream",
     "text": [
      "Enter the value in between in a : 35.8\n",
      "Nearest value is  36\n"
     ]
    }
   ],
   "source": [
    "b = float(input('Enter the value in between in a : '))\n",
    "nearset_value = a.flat[np.abs(a - b).argmin()]\n",
    "print('Nearest value is ',nearset_value)"
   ]
  },
  {
   "cell_type": "markdown",
   "id": "642e7d31",
   "metadata": {},
   "source": [
    "### 16. Write a NumPy program to get the n largest values of an array. "
   ]
  },
  {
   "cell_type": "code",
   "execution_count": 50,
   "id": "b3af572b",
   "metadata": {},
   "outputs": [
    {
     "data": {
      "text/plain": [
       "array([ 6, 14, 10,  9,  5])"
      ]
     },
     "execution_count": 50,
     "metadata": {},
     "output_type": "execute_result"
    }
   ],
   "source": [
    "a = np.random.randint(1,15,5)\n",
    "a"
   ]
  },
  {
   "cell_type": "code",
   "execution_count": 52,
   "id": "248dc563",
   "metadata": {},
   "outputs": [
    {
     "data": {
      "text/plain": [
       "14"
      ]
     },
     "execution_count": 52,
     "metadata": {},
     "output_type": "execute_result"
    }
   ],
   "source": [
    "a.max()"
   ]
  },
  {
   "cell_type": "code",
   "execution_count": 53,
   "id": "fa6f8bba",
   "metadata": {},
   "outputs": [],
   "source": [
    "a.sort()"
   ]
  },
  {
   "cell_type": "code",
   "execution_count": 54,
   "id": "6017a7ee",
   "metadata": {},
   "outputs": [
    {
     "data": {
      "text/plain": [
       "array([ 5,  6,  9, 10, 14])"
      ]
     },
     "execution_count": 54,
     "metadata": {},
     "output_type": "execute_result"
    }
   ],
   "source": [
    "a"
   ]
  },
  {
   "cell_type": "code",
   "execution_count": 55,
   "id": "fea909a3",
   "metadata": {},
   "outputs": [
    {
     "data": {
      "text/plain": [
       "14"
      ]
     },
     "execution_count": 55,
     "metadata": {},
     "output_type": "execute_result"
    }
   ],
   "source": [
    "a[-1]"
   ]
  },
  {
   "cell_type": "markdown",
   "id": "ba213c1c",
   "metadata": {},
   "source": [
    "### 17. Write a NumPy program to create a three-dimension array with shape (300,400,5) and set to a variable. Fill the array elements with values using unsigned integer (0 to 255)."
   ]
  },
  {
   "cell_type": "code",
   "execution_count": 56,
   "id": "abddcba9",
   "metadata": {},
   "outputs": [
    {
     "data": {
      "text/plain": [
       "array([[[175, 181, 128, 206, 151],\n",
       "        [226,  38,  30,  63, 105],\n",
       "        [166,  67,  14,   4,  69],\n",
       "        ...,\n",
       "        [ 25, 157,  91, 157,  17],\n",
       "        [ 15,  56,  24, 108,  82],\n",
       "        [ 27, 124,  89, 157,  47]],\n",
       "\n",
       "       [[158, 185,  74, 151,  85],\n",
       "        [191, 195, 150,  12, 136],\n",
       "        [166, 195, 233,  66, 158],\n",
       "        ...,\n",
       "        [149, 199, 109,  57,  16],\n",
       "        [  1, 153, 140,  39,  25],\n",
       "        [  7, 225,  49, 172, 230]],\n",
       "\n",
       "       [[ 62, 158,  37, 212, 137],\n",
       "        [ 41, 149,  62, 123,  93],\n",
       "        [217, 255, 189, 212, 110],\n",
       "        ...,\n",
       "        [ 52, 165, 208, 228,  90],\n",
       "        [ 83,  90, 102,  34, 227],\n",
       "        [232, 206, 201, 152, 101]],\n",
       "\n",
       "       ...,\n",
       "\n",
       "       [[233, 114, 252, 163, 138],\n",
       "        [ 52, 154, 157,  59, 146],\n",
       "        [183,  64, 134, 117, 227],\n",
       "        ...,\n",
       "        [200,  27, 223, 164,  88],\n",
       "        [174, 175, 116, 145, 206],\n",
       "        [145,   1, 189,  29,  20]],\n",
       "\n",
       "       [[ 14, 170,  43, 215,  87],\n",
       "        [ 80, 133,  77, 113,  70],\n",
       "        [217, 230, 127, 166, 209],\n",
       "        ...,\n",
       "        [232,  27, 132, 180,  71],\n",
       "        [216, 101, 193, 255,  68],\n",
       "        [154, 243,  56,  47,  42]],\n",
       "\n",
       "       [[188, 234, 115, 234, 140],\n",
       "        [238, 197,  57,  78,  79],\n",
       "        [170, 205,  47, 212, 239],\n",
       "        ...,\n",
       "        [213,  10,  10, 209, 238],\n",
       "        [ 72, 236, 165,  28, 172],\n",
       "        [113, 239, 210, 112, 105]]])"
      ]
     },
     "execution_count": 56,
     "metadata": {},
     "output_type": "execute_result"
    }
   ],
   "source": [
    "a = np.random.randint(low=0,high=256,size=(300,400,5))\n",
    "a"
   ]
  },
  {
   "cell_type": "code",
   "execution_count": null,
   "id": "a48a3117",
   "metadata": {},
   "outputs": [],
   "source": []
  }
 ],
 "metadata": {
  "kernelspec": {
   "display_name": "Python 3 (ipykernel)",
   "language": "python",
   "name": "python3"
  },
  "language_info": {
   "codemirror_mode": {
    "name": "ipython",
    "version": 3
   },
   "file_extension": ".py",
   "mimetype": "text/x-python",
   "name": "python",
   "nbconvert_exporter": "python",
   "pygments_lexer": "ipython3",
   "version": "3.9.13"
  }
 },
 "nbformat": 4,
 "nbformat_minor": 5
}
