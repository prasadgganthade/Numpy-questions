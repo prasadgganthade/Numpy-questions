{
 "cells": [
  {
   "cell_type": "code",
   "execution_count": 1,
   "id": "8cbfa46f",
   "metadata": {},
   "outputs": [],
   "source": [
    "import numpy as np"
   ]
  },
  {
   "cell_type": "markdown",
   "id": "e74d9860",
   "metadata": {},
   "source": [
    "### 17. Write a NumPy program to check whether each element of a given array is composed of digits only, lower case letters only and upper case letters only. "
   ]
  },
  {
   "cell_type": "code",
   "execution_count": 2,
   "id": "8abf5e1f",
   "metadata": {},
   "outputs": [],
   "source": [
    "x = np.array(['Python','PHP','js','html5','CSs'])"
   ]
  },
  {
   "cell_type": "code",
   "execution_count": 3,
   "id": "3d2bca87",
   "metadata": {},
   "outputs": [],
   "source": [
    "r1 = np.char.isdigit(x)\n",
    "r2 = np.char.islower(x)\n",
    "r3 = np.char.isupper(x)"
   ]
  },
  {
   "cell_type": "code",
   "execution_count": 4,
   "id": "b0ac36c6",
   "metadata": {},
   "outputs": [
    {
     "name": "stdout",
     "output_type": "stream",
     "text": [
      "Is digit is : [False False False False False]\n"
     ]
    }
   ],
   "source": [
    "print('Is digit is :',r1)"
   ]
  },
  {
   "cell_type": "code",
   "execution_count": 6,
   "id": "ce6d80eb",
   "metadata": {},
   "outputs": [
    {
     "name": "stdout",
     "output_type": "stream",
     "text": [
      "Lower case only : [False False  True  True False]\n"
     ]
    }
   ],
   "source": [
    "print('Lower case only :',r2)"
   ]
  },
  {
   "cell_type": "code",
   "execution_count": 7,
   "id": "259e78d2",
   "metadata": {},
   "outputs": [
    {
     "name": "stdout",
     "output_type": "stream",
     "text": [
      "Upper case only :  [False  True False False False]\n"
     ]
    }
   ],
   "source": [
    "print('Upper case only : ',r3)"
   ]
  },
  {
   "cell_type": "markdown",
   "id": "eb7cdd75",
   "metadata": {},
   "source": [
    "#### 18. Write a NumPy program to check whether each element of a given array starts with \"P\". "
   ]
  },
  {
   "cell_type": "code",
   "execution_count": 8,
   "id": "cc7d8e6e",
   "metadata": {},
   "outputs": [
    {
     "data": {
      "text/plain": [
       "array(['Python', 'PHP', 'js', 'html5', 'CSs'], dtype='<U6')"
      ]
     },
     "execution_count": 8,
     "metadata": {},
     "output_type": "execute_result"
    }
   ],
   "source": [
    "x"
   ]
  },
  {
   "cell_type": "code",
   "execution_count": 10,
   "id": "48a7a635",
   "metadata": {},
   "outputs": [
    {
     "data": {
      "text/plain": [
       "array([ True,  True, False, False, False])"
      ]
     },
     "execution_count": 10,
     "metadata": {},
     "output_type": "execute_result"
    }
   ],
   "source": [
    "np.char.startswith(x,'P')"
   ]
  },
  {
   "cell_type": "markdown",
   "id": "05783beb",
   "metadata": {},
   "source": [
    "#### 19. Write a NumPy program to add two zeros to the beginning of each element of a given array of string values. "
   ]
  },
  {
   "cell_type": "code",
   "execution_count": 11,
   "id": "bf807cbf",
   "metadata": {},
   "outputs": [],
   "source": [
    "a = np.random.random((1,6))"
   ]
  },
  {
   "cell_type": "code",
   "execution_count": 12,
   "id": "c6d7c588",
   "metadata": {},
   "outputs": [
    {
     "data": {
      "text/plain": [
       "array([[0.6626599 , 0.37641519, 0.69234132, 0.14210769, 0.00983934,\n",
       "        0.09091692]])"
      ]
     },
     "execution_count": 12,
     "metadata": {},
     "output_type": "execute_result"
    }
   ],
   "source": [
    "a"
   ]
  },
  {
   "cell_type": "code",
   "execution_count": 14,
   "id": "93603451",
   "metadata": {},
   "outputs": [
    {
     "data": {
      "text/plain": [
       "array(['1.1', '2.2', '3.3', '4.4', '5.5'], dtype='<U3')"
      ]
     },
     "execution_count": 14,
     "metadata": {},
     "output_type": "execute_result"
    }
   ],
   "source": [
    "a = np.array(['1.1','2.2','3.3','4.4','5.5'])\n",
    "a"
   ]
  },
  {
   "cell_type": "code",
   "execution_count": 16,
   "id": "8bb1dc27",
   "metadata": {},
   "outputs": [
    {
     "data": {
      "text/plain": [
       "array(['001.1', '002.2', '003.3', '004.4', '005.5'], dtype='<U5')"
      ]
     },
     "execution_count": 16,
     "metadata": {},
     "output_type": "execute_result"
    }
   ],
   "source": [
    "np.char.add('00',a)"
   ]
  },
  {
   "cell_type": "markdown",
   "id": "bd374511",
   "metadata": {},
   "source": [
    "#### 20. Write a NumPy program to replace a specific character with another in a given array of string values."
   ]
  },
  {
   "cell_type": "code",
   "execution_count": 17,
   "id": "9ff4ad1f",
   "metadata": {},
   "outputs": [],
   "source": [
    "b = np.array(['Python-numpy','python-pandas','python-seaborn'])"
   ]
  },
  {
   "cell_type": "code",
   "execution_count": 19,
   "id": "042d8d83",
   "metadata": {},
   "outputs": [],
   "source": [
    "c = np.char.strip(np.char.replace(b,'-','='))"
   ]
  },
  {
   "cell_type": "code",
   "execution_count": 20,
   "id": "8bd85355",
   "metadata": {},
   "outputs": [
    {
     "data": {
      "text/plain": [
       "array(['Python=numpy', 'python=pandas', 'python=seaborn'], dtype='<U14')"
      ]
     },
     "execution_count": 20,
     "metadata": {},
     "output_type": "execute_result"
    }
   ],
   "source": [
    "c"
   ]
  },
  {
   "cell_type": "markdown",
   "id": "a454eb3e",
   "metadata": {},
   "source": [
    "#### 21. Write a NumPy program to count a given word in each row of a given array of string values. "
   ]
  },
  {
   "cell_type": "code",
   "execution_count": 21,
   "id": "f2056211",
   "metadata": {},
   "outputs": [],
   "source": [
    "g = np.array([['python','css','html'],['python','python','js'],['css','php','python']])"
   ]
  },
  {
   "cell_type": "code",
   "execution_count": 22,
   "id": "9e4c6de7",
   "metadata": {},
   "outputs": [
    {
     "data": {
      "text/plain": [
       "array([[1, 0, 0],\n",
       "       [1, 1, 0],\n",
       "       [0, 0, 1]])"
      ]
     },
     "execution_count": 22,
     "metadata": {},
     "output_type": "execute_result"
    }
   ],
   "source": [
    "np.char.count(g,'python')"
   ]
  },
  {
   "cell_type": "markdown",
   "id": "86d6e3f2",
   "metadata": {},
   "source": [
    "#### 22. Write a NumPy program to split a given text into lines and split the single line into array values."
   ]
  },
  {
   "cell_type": "code",
   "execution_count": 23,
   "id": "03d6dce7",
   "metadata": {},
   "outputs": [],
   "source": [
    "w = \"\"\"\n",
    "01 A President\n",
    "02 B Prime Minister\n",
    "03 C Finance Minister\n",
    "04 D Health Minister\n",
    "05 E Defence Minister\n",
    "06 F Home Minister\n",
    "\"\"\""
   ]
  },
  {
   "cell_type": "code",
   "execution_count": 24,
   "id": "1a78eb99",
   "metadata": {},
   "outputs": [
    {
     "data": {
      "text/plain": [
       "'\\n01 A President\\n02 B Prime Minister\\n03 C Finance Minister\\n04 D Health Minister\\n05 E Defence Minister\\n06 F Home Minister\\n'"
      ]
     },
     "execution_count": 24,
     "metadata": {},
     "output_type": "execute_result"
    }
   ],
   "source": [
    "w"
   ]
  },
  {
   "cell_type": "code",
   "execution_count": 25,
   "id": "3cca4ee8",
   "metadata": {},
   "outputs": [],
   "source": [
    "text_lines = w.splitlines()"
   ]
  },
  {
   "cell_type": "code",
   "execution_count": 26,
   "id": "34a3c933",
   "metadata": {},
   "outputs": [],
   "source": [
    "text_lines = [r.split('\\t') for r in text_lines]"
   ]
  },
  {
   "cell_type": "code",
   "execution_count": 27,
   "id": "3dceaf95",
   "metadata": {},
   "outputs": [
    {
     "name": "stderr",
     "output_type": "stream",
     "text": [
      "C:\\Users\\sai\\AppData\\Local\\Temp\\ipykernel_5236\\3138150597.py:1: DeprecationWarning: `np.str` is a deprecated alias for the builtin `str`. To silence this warning, use `str` by itself. Doing this will not modify any behavior and is safe. If you specifically wanted the numpy scalar type, use `np.str_` here.\n",
      "Deprecated in NumPy 1.20; for more details and guidance: https://numpy.org/devdocs/release/1.20.0-notes.html#deprecations\n",
      "  result =np.array(text_lines,dtype = np.str)\n"
     ]
    }
   ],
   "source": [
    "result =np.array(text_lines,dtype = np.str)"
   ]
  },
  {
   "cell_type": "code",
   "execution_count": 28,
   "id": "3c7f020b",
   "metadata": {},
   "outputs": [
    {
     "data": {
      "text/plain": [
       "array([[''],\n",
       "       ['01 A President'],\n",
       "       ['02 B Prime Minister'],\n",
       "       ['03 C Finance Minister'],\n",
       "       ['04 D Health Minister'],\n",
       "       ['05 E Defence Minister'],\n",
       "       ['06 F Home Minister']], dtype='<U21')"
      ]
     },
     "execution_count": 28,
     "metadata": {},
     "output_type": "execute_result"
    }
   ],
   "source": [
    "result"
   ]
  },
  {
   "cell_type": "code",
   "execution_count": null,
   "id": "bb41ef12",
   "metadata": {},
   "outputs": [],
   "source": []
  }
 ],
 "metadata": {
  "kernelspec": {
   "display_name": "Python 3 (ipykernel)",
   "language": "python",
   "name": "python3"
  },
  "language_info": {
   "codemirror_mode": {
    "name": "ipython",
    "version": 3
   },
   "file_extension": ".py",
   "mimetype": "text/x-python",
   "name": "python",
   "nbconvert_exporter": "python",
   "pygments_lexer": "ipython3",
   "version": "3.9.13"
  }
 },
 "nbformat": 4,
 "nbformat_minor": 5
}
