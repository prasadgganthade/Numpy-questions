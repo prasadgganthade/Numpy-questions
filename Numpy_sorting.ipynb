{
 "cells": [
  {
   "cell_type": "markdown",
   "id": "dd29774b",
   "metadata": {},
   "source": [
    "# Numpy Sorting Exercise"
   ]
  },
  {
   "cell_type": "markdown",
   "id": "53b6d955",
   "metadata": {},
   "source": [
    "import numpy as np"
   ]
  },
  {
   "cell_type": "code",
   "execution_count": 1,
   "id": "0cf23576",
   "metadata": {},
   "outputs": [],
   "source": [
    "import numpy as np"
   ]
  },
  {
   "cell_type": "markdown",
   "id": "53945f79",
   "metadata": {},
   "source": [
    "### 1. Write a NumPy program to sort a given array of shape 2 along the first axis, last axis and on flattened array."
   ]
  },
  {
   "cell_type": "code",
   "execution_count": 9,
   "id": "8a9b5be9",
   "metadata": {},
   "outputs": [
    {
     "data": {
      "text/plain": [
       "array([[10, 40],\n",
       "       [30, 20]])"
      ]
     },
     "execution_count": 9,
     "metadata": {},
     "output_type": "execute_result"
    }
   ],
   "source": [
    "a = np.array([[10,40],[30,20]])\n",
    "a"
   ]
  },
  {
   "cell_type": "code",
   "execution_count": 10,
   "id": "d76437c3",
   "metadata": {},
   "outputs": [
    {
     "name": "stdout",
     "output_type": "stream",
     "text": [
      "Sort the array along first axis\n"
     ]
    },
    {
     "data": {
      "text/plain": [
       "array([[10, 20],\n",
       "       [30, 40]])"
      ]
     },
     "execution_count": 10,
     "metadata": {},
     "output_type": "execute_result"
    }
   ],
   "source": [
    "print('Sort the array along first axis')\n",
    "np.sort(a,axis=0)"
   ]
  },
  {
   "cell_type": "code",
   "execution_count": 11,
   "id": "51602231",
   "metadata": {},
   "outputs": [
    {
     "name": "stdout",
     "output_type": "stream",
     "text": [
      "Sort the array along last axis\n"
     ]
    },
    {
     "data": {
      "text/plain": [
       "array([[10, 40],\n",
       "       [20, 30]])"
      ]
     },
     "execution_count": 11,
     "metadata": {},
     "output_type": "execute_result"
    }
   ],
   "source": [
    "print('Sort the array along last axis')\n",
    "np.sort(a,axis=1)"
   ]
  },
  {
   "cell_type": "code",
   "execution_count": 12,
   "id": "6256df25",
   "metadata": {},
   "outputs": [
    {
     "name": "stdout",
     "output_type": "stream",
     "text": [
      "Falttened array\n"
     ]
    },
    {
     "data": {
      "text/plain": [
       "array([10, 20, 30, 40])"
      ]
     },
     "execution_count": 12,
     "metadata": {},
     "output_type": "execute_result"
    }
   ],
   "source": [
    "print('Falttened array')\n",
    "np.sort(a,axis=None)"
   ]
  },
  {
   "cell_type": "markdown",
   "id": "1257cc40",
   "metadata": {},
   "source": [
    "### 2. Write a NumPy program to create a structured array from given student name, height, class and their data types. Now sort the array on height."
   ]
  },
  {
   "cell_type": "code",
   "execution_count": 13,
   "id": "7d72a7d3",
   "metadata": {},
   "outputs": [],
   "source": [
    "data_type = [('name','S15'),('class',int),('height',float)]\n",
    "student_details = [('James',5,48.5),('Nail',6,52.5),('Paul',5,42.10),('Pit',5,40.11)]"
   ]
  },
  {
   "cell_type": "code",
   "execution_count": 14,
   "id": "7d35588c",
   "metadata": {},
   "outputs": [
    {
     "data": {
      "text/plain": [
       "array([(b'James', 5, 48.5 ), (b'Nail', 6, 52.5 ), (b'Paul', 5, 42.1 ),\n",
       "       (b'Pit', 5, 40.11)],\n",
       "      dtype=[('name', 'S15'), ('class', '<i4'), ('height', '<f8')])"
      ]
     },
     "execution_count": 14,
     "metadata": {},
     "output_type": "execute_result"
    }
   ],
   "source": [
    "students = np.array(student_details,dtype=data_type)\n",
    "students"
   ]
  },
  {
   "cell_type": "code",
   "execution_count": 15,
   "id": "ba288494",
   "metadata": {},
   "outputs": [
    {
     "name": "stdout",
     "output_type": "stream",
     "text": [
      "Sort by heights\n"
     ]
    },
    {
     "data": {
      "text/plain": [
       "array([(b'Pit', 5, 40.11), (b'Paul', 5, 42.1 ), (b'James', 5, 48.5 ),\n",
       "       (b'Nail', 6, 52.5 )],\n",
       "      dtype=[('name', 'S15'), ('class', '<i4'), ('height', '<f8')])"
      ]
     },
     "execution_count": 15,
     "metadata": {},
     "output_type": "execute_result"
    }
   ],
   "source": [
    "print('Sort by heights')\n",
    "np.sort(students,order='height')"
   ]
  },
  {
   "cell_type": "markdown",
   "id": "13c693fc",
   "metadata": {},
   "source": [
    "### 3. Write a NumPy program to create a structured array from given student name, height, class and their data types. Now sort by class, then height if class are equal"
   ]
  },
  {
   "cell_type": "code",
   "execution_count": 16,
   "id": "b9d32351",
   "metadata": {},
   "outputs": [
    {
     "name": "stdout",
     "output_type": "stream",
     "text": [
      "Sort by using class and height\n"
     ]
    },
    {
     "data": {
      "text/plain": [
       "array([(b'Pit', 5, 40.11), (b'Paul', 5, 42.1 ), (b'James', 5, 48.5 ),\n",
       "       (b'Nail', 6, 52.5 )],\n",
       "      dtype=[('name', 'S15'), ('class', '<i4'), ('height', '<f8')])"
      ]
     },
     "execution_count": 16,
     "metadata": {},
     "output_type": "execute_result"
    }
   ],
   "source": [
    "# take above problem\n",
    "print('Sort by using class and height')\n",
    "np.sort(students,order=['class','height'])"
   ]
  },
  {
   "cell_type": "markdown",
   "id": "0e45a1f0",
   "metadata": {},
   "source": [
    "### 4. Write a NumPy program to sort the student id with increasing height of the students from given students id and height. Print the integer indices that describes the sort order by multiple columns and the sorted data."
   ]
  },
  {
   "cell_type": "code",
   "execution_count": 17,
   "id": "cfccdef5",
   "metadata": {},
   "outputs": [],
   "source": [
    "student_id = np.array([1023,5205,6230,1671,1682,5487])\n",
    "student_height = np.array([40,42,56,58,52,49])"
   ]
  },
  {
   "cell_type": "code",
   "execution_count": 19,
   "id": "677fbc2c",
   "metadata": {},
   "outputs": [
    {
     "data": {
      "text/plain": [
       "array([0, 1, 5, 4, 2, 3], dtype=int64)"
      ]
     },
     "execution_count": 19,
     "metadata": {},
     "output_type": "execute_result"
    }
   ],
   "source": [
    "a= np.lexsort((student_id,student_height))\n",
    "a"
   ]
  },
  {
   "cell_type": "code",
   "execution_count": 21,
   "id": "96419381",
   "metadata": {},
   "outputs": [
    {
     "name": "stdout",
     "output_type": "stream",
     "text": [
      "Sorted data\n",
      "1023 40\n",
      "5205 42\n",
      "5487 49\n",
      "1682 52\n",
      "6230 56\n",
      "1671 58\n"
     ]
    }
   ],
   "source": [
    "print('Sorted data')\n",
    "for i in a:\n",
    "    print(student_id[i],student_height[i])"
   ]
  },
  {
   "cell_type": "markdown",
   "id": "a124258d",
   "metadata": {},
   "source": [
    "### 5. Write a NumPy program to get the indices of the sorted elements of a given array. "
   ]
  },
  {
   "cell_type": "code",
   "execution_count": 22,
   "id": "4277caa5",
   "metadata": {},
   "outputs": [
    {
     "data": {
      "text/plain": [
       "array([1023, 5205, 6230, 1671, 1682, 5487])"
      ]
     },
     "execution_count": 22,
     "metadata": {},
     "output_type": "execute_result"
    }
   ],
   "source": [
    "student_id"
   ]
  },
  {
   "cell_type": "code",
   "execution_count": 23,
   "id": "60fd8b52",
   "metadata": {},
   "outputs": [],
   "source": [
    "student_id.sort()"
   ]
  },
  {
   "cell_type": "code",
   "execution_count": 24,
   "id": "d8ee4c7f",
   "metadata": {},
   "outputs": [
    {
     "data": {
      "text/plain": [
       "array([1023, 1671, 1682, 5205, 5487, 6230])"
      ]
     },
     "execution_count": 24,
     "metadata": {},
     "output_type": "execute_result"
    }
   ],
   "source": [
    "student_id"
   ]
  },
  {
   "cell_type": "code",
   "execution_count": 26,
   "id": "67801a62",
   "metadata": {},
   "outputs": [
    {
     "data": {
      "text/plain": [
       "array([1023, 1671, 1682, 5205, 5487, 6230])"
      ]
     },
     "execution_count": 26,
     "metadata": {},
     "output_type": "execute_result"
    }
   ],
   "source": [
    "# to get index\n",
    "student_id"
   ]
  },
  {
   "cell_type": "code",
   "execution_count": 28,
   "id": "ae6e0d47",
   "metadata": {},
   "outputs": [
    {
     "data": {
      "text/plain": [
       "array([40, 42, 56, 58, 52, 49])"
      ]
     },
     "execution_count": 28,
     "metadata": {},
     "output_type": "execute_result"
    }
   ],
   "source": [
    "student_height"
   ]
  },
  {
   "cell_type": "code",
   "execution_count": 29,
   "id": "5094b30f",
   "metadata": {},
   "outputs": [
    {
     "data": {
      "text/plain": [
       "array([0, 1, 5, 4, 2, 3], dtype=int64)"
      ]
     },
     "execution_count": 29,
     "metadata": {},
     "output_type": "execute_result"
    }
   ],
   "source": [
    "i = np.argsort(student_height)\n",
    "i"
   ]
  },
  {
   "cell_type": "code",
   "execution_count": 30,
   "id": "abdc883b",
   "metadata": {},
   "outputs": [],
   "source": [
    "i = np.argsort(student_id)"
   ]
  },
  {
   "cell_type": "code",
   "execution_count": 31,
   "id": "d443ce8d",
   "metadata": {},
   "outputs": [
    {
     "data": {
      "text/plain": [
       "array([0, 1, 2, 3, 4, 5], dtype=int64)"
      ]
     },
     "execution_count": 31,
     "metadata": {},
     "output_type": "execute_result"
    }
   ],
   "source": [
    "i"
   ]
  },
  {
   "cell_type": "markdown",
   "id": "ebe0ee21",
   "metadata": {},
   "source": [
    "### 6. Write a NumPy program to sort a given complex array using the real part first, then the imaginary part. "
   ]
  },
  {
   "cell_type": "code",
   "execution_count": 32,
   "id": "3f5035c7",
   "metadata": {},
   "outputs": [
    {
     "data": {
      "text/plain": [
       "[(1+2j), (3-1j), (3-2j), (4-3j), (3+5j)]"
      ]
     },
     "execution_count": 32,
     "metadata": {},
     "output_type": "execute_result"
    }
   ],
   "source": [
    "num = [1 + 2j, 3 - 1j, 3 - 2j, 4 - 3j, 3 + 5j]\n",
    "num"
   ]
  },
  {
   "cell_type": "code",
   "execution_count": 33,
   "id": "8b9a1cfe",
   "metadata": {},
   "outputs": [
    {
     "name": "stdout",
     "output_type": "stream",
     "text": [
      "\n",
      "Sort the complex number by using real part first\n"
     ]
    },
    {
     "data": {
      "text/plain": [
       "array([1.+2.j, 3.-2.j, 3.-1.j, 3.+5.j, 4.-3.j])"
      ]
     },
     "execution_count": 33,
     "metadata": {},
     "output_type": "execute_result"
    }
   ],
   "source": [
    "print('\\nSort the complex number by using real part first')\n",
    "np.sort_complex(num)"
   ]
  },
  {
   "cell_type": "markdown",
   "id": "314dda88",
   "metadata": {},
   "source": [
    "### 7. Write a NumPy program to partition a given array in a specified position and move all the smaller elements values to the left of the partition, and the remaining values to the right, in arbitrary order (based on random choice)"
   ]
  },
  {
   "cell_type": "code",
   "execution_count": 34,
   "id": "972344e4",
   "metadata": {},
   "outputs": [],
   "source": [
    "nums = np.array([70, 50, 20, 30, -11, 60, 50, 40])"
   ]
  },
  {
   "cell_type": "code",
   "execution_count": 35,
   "id": "ad6909cc",
   "metadata": {},
   "outputs": [
    {
     "data": {
      "text/plain": [
       "array([ 70,  50,  20,  30, -11,  60,  50,  40])"
      ]
     },
     "execution_count": 35,
     "metadata": {},
     "output_type": "execute_result"
    }
   ],
   "source": [
    "nums"
   ]
  },
  {
   "cell_type": "code",
   "execution_count": 37,
   "id": "269d033e",
   "metadata": {},
   "outputs": [
    {
     "name": "stdout",
     "output_type": "stream",
     "text": [
      "Partition on 5th position\n"
     ]
    },
    {
     "data": {
      "text/plain": [
       "array([-11,  30,  20,  40,  50,  50,  60,  70])"
      ]
     },
     "execution_count": 37,
     "metadata": {},
     "output_type": "execute_result"
    }
   ],
   "source": [
    "print('Partition on 5th position')\n",
    "np.partition(nums,5)"
   ]
  },
  {
   "cell_type": "code",
   "execution_count": 38,
   "id": "04a114db",
   "metadata": {},
   "outputs": [
    {
     "name": "stdout",
     "output_type": "stream",
     "text": [
      "Partition on 4th position\n"
     ]
    },
    {
     "data": {
      "text/plain": [
       "array([-11,  30,  20,  40,  50,  50,  60,  70])"
      ]
     },
     "execution_count": 38,
     "metadata": {},
     "output_type": "execute_result"
    }
   ],
   "source": [
    "print('Partition on 4th position')\n",
    "np.partition(nums,4)"
   ]
  },
  {
   "cell_type": "markdown",
   "id": "594fab71",
   "metadata": {},
   "source": [
    "### 8. Write a NumPy program to sort the specified number of elements from beginning of a given array."
   ]
  },
  {
   "cell_type": "code",
   "execution_count": 39,
   "id": "8c1db5e1",
   "metadata": {},
   "outputs": [],
   "source": [
    "a = np.random.random(10)"
   ]
  },
  {
   "cell_type": "code",
   "execution_count": 40,
   "id": "5eaffc34",
   "metadata": {},
   "outputs": [
    {
     "data": {
      "text/plain": [
       "array([0.36429521, 0.71288399, 0.22045006, 0.61947022, 0.73678155,\n",
       "       0.50748866, 0.1183267 , 0.11459634, 0.90771115, 0.94778194])"
      ]
     },
     "execution_count": 40,
     "metadata": {},
     "output_type": "execute_result"
    }
   ],
   "source": [
    "a"
   ]
  },
  {
   "cell_type": "code",
   "execution_count": 41,
   "id": "7a8df4f1",
   "metadata": {},
   "outputs": [
    {
     "name": "stdout",
     "output_type": "stream",
     "text": [
      "Sort first 5 element\n"
     ]
    },
    {
     "data": {
      "text/plain": [
       "array([0.11459634, 0.1183267 , 0.22045006, 0.36429521, 0.50748866,\n",
       "       0.73678155, 0.71288399, 0.61947022, 0.90771115, 0.94778194])"
      ]
     },
     "execution_count": 41,
     "metadata": {},
     "output_type": "execute_result"
    }
   ],
   "source": [
    "print('Sort first 5 element')\n",
    "a[np.argpartition(a,range(5))]"
   ]
  },
  {
   "cell_type": "markdown",
   "id": "39039f40",
   "metadata": {},
   "source": [
    "### 9. Write a NumPy program to sort an given array by the nth column."
   ]
  },
  {
   "cell_type": "code",
   "execution_count": 42,
   "id": "f4b17cf8",
   "metadata": {},
   "outputs": [
    {
     "data": {
      "text/plain": [
       "array([[4, 4, 8],\n",
       "       [4, 7, 9],\n",
       "       [3, 0, 7]])"
      ]
     },
     "execution_count": 42,
     "metadata": {},
     "output_type": "execute_result"
    }
   ],
   "source": [
    "a = np.random.randint(0,10,(3,3))\n",
    "a"
   ]
  },
  {
   "cell_type": "code",
   "execution_count": 43,
   "id": "82554542",
   "metadata": {},
   "outputs": [
    {
     "name": "stdout",
     "output_type": "stream",
     "text": [
      "Sort the array in the nth column\n"
     ]
    },
    {
     "data": {
      "text/plain": [
       "array([[3, 0, 7],\n",
       "       [4, 4, 8],\n",
       "       [4, 7, 9]])"
      ]
     },
     "execution_count": 43,
     "metadata": {},
     "output_type": "execute_result"
    }
   ],
   "source": [
    "print('Sort the array in the nth column')\n",
    "a[a[:,1].argsort()]"
   ]
  },
  {
   "cell_type": "code",
   "execution_count": null,
   "id": "50d15a1c",
   "metadata": {},
   "outputs": [],
   "source": []
  }
 ],
 "metadata": {
  "kernelspec": {
   "display_name": "Python 3 (ipykernel)",
   "language": "python",
   "name": "python3"
  },
  "language_info": {
   "codemirror_mode": {
    "name": "ipython",
    "version": 3
   },
   "file_extension": ".py",
   "mimetype": "text/x-python",
   "name": "python",
   "nbconvert_exporter": "python",
   "pygments_lexer": "ipython3",
   "version": "3.9.13"
  }
 },
 "nbformat": 4,
 "nbformat_minor": 5
}
