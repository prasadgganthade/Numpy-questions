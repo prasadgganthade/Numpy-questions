{
 "cells": [
  {
   "cell_type": "code",
   "execution_count": 1,
   "id": "738b0625",
   "metadata": {},
   "outputs": [],
   "source": [
    "import numpy as np"
   ]
  },
  {
   "cell_type": "code",
   "execution_count": 3,
   "id": "814c7c31",
   "metadata": {},
   "outputs": [
    {
     "name": "stdout",
     "output_type": "stream",
     "text": [
      "[[64392 31655]\n",
      " [32579     0]\n",
      " [49248   462]\n",
      " [    0     0]]\n"
     ]
    }
   ],
   "source": [
    "a = np.array([[64392,31655],[32579,0],[49248,462],[0,0]])\n",
    "print(a)"
   ]
  },
  {
   "cell_type": "code",
   "execution_count": 4,
   "id": "b3cd74ec",
   "metadata": {},
   "outputs": [
    {
     "name": "stdout",
     "output_type": "stream",
     "text": [
      "Printing numpy array attributes\n"
     ]
    }
   ],
   "source": [
    "print('Printing numpy array attributes')"
   ]
  },
  {
   "cell_type": "code",
   "execution_count": 5,
   "id": "65d705f8",
   "metadata": {},
   "outputs": [
    {
     "name": "stdout",
     "output_type": "stream",
     "text": [
      "Array shape is : (4, 2)\n"
     ]
    }
   ],
   "source": [
    "print('Array shape is :',a.shape)"
   ]
  },
  {
   "cell_type": "code",
   "execution_count": 6,
   "id": "84cc672f",
   "metadata": {},
   "outputs": [
    {
     "name": "stdout",
     "output_type": "stream",
     "text": [
      "Array dimensions are : 2\n"
     ]
    }
   ],
   "source": [
    "print('Array dimensions are :',a.ndim)"
   ]
  },
  {
   "cell_type": "code",
   "execution_count": 7,
   "id": "85a6bf13",
   "metadata": {},
   "outputs": [
    {
     "name": "stdout",
     "output_type": "stream",
     "text": [
      "Length of each elements in array in bytes is : 4\n"
     ]
    }
   ],
   "source": [
    "print('Length of each elements in array in bytes is :',a.itemsize)"
   ]
  },
  {
   "cell_type": "markdown",
   "id": "496ebe19",
   "metadata": {},
   "source": [
    "## Exercise 2: Create a 5X2 integer array from a range between 100 to 200 such that the difference between each element is 10"
   ]
  },
  {
   "cell_type": "code",
   "execution_count": 12,
   "id": "0cb00d24",
   "metadata": {},
   "outputs": [
    {
     "data": {
      "text/plain": [
       "array([[110, 120],\n",
       "       [130, 140],\n",
       "       [150, 160],\n",
       "       [170, 180],\n",
       "       [190, 200]])"
      ]
     },
     "execution_count": 12,
     "metadata": {},
     "output_type": "execute_result"
    }
   ],
   "source": [
    "b = np.arange(110,201,10).reshape(5,2)\n",
    "b"
   ]
  },
  {
   "cell_type": "markdown",
   "id": "5d42e101",
   "metadata": {},
   "source": [
    "## Exercise 3: Following is the provided numPy array. Return array of items by taking the third column from all rows"
   ]
  },
  {
   "cell_type": "code",
   "execution_count": 15,
   "id": "2e56ce28",
   "metadata": {},
   "outputs": [
    {
     "data": {
      "text/plain": [
       "array([[11, 22, 33],\n",
       "       [44, 55, 66],\n",
       "       [77, 88, 99]])"
      ]
     },
     "execution_count": 15,
     "metadata": {},
     "output_type": "execute_result"
    }
   ],
   "source": [
    "sampleArray = np.array([[11 ,22, 33], [44, 55, 66], [77, 88, 99]])\n",
    "sampleArray"
   ]
  },
  {
   "cell_type": "code",
   "execution_count": 30,
   "id": "1c4fd6d4",
   "metadata": {},
   "outputs": [
    {
     "data": {
      "text/plain": [
       "array([[33],\n",
       "       [66],\n",
       "       [99]])"
      ]
     },
     "execution_count": 30,
     "metadata": {},
     "output_type": "execute_result"
    }
   ],
   "source": [
    "c = sampleArray[:,2:]\n",
    "c"
   ]
  },
  {
   "cell_type": "code",
   "execution_count": 32,
   "id": "25eddbe6",
   "metadata": {},
   "outputs": [
    {
     "data": {
      "text/plain": [
       "array([[22],\n",
       "       [55],\n",
       "       [88]])"
      ]
     },
     "execution_count": 32,
     "metadata": {},
     "output_type": "execute_result"
    }
   ],
   "source": [
    "# Find middle column\n",
    "c = sampleArray[:,1:2]\n",
    "c"
   ]
  },
  {
   "cell_type": "code",
   "execution_count": 33,
   "id": "2cde38a2",
   "metadata": {},
   "outputs": [
    {
     "data": {
      "text/plain": [
       "array([[11, 22, 33],\n",
       "       [44, 55, 66]])"
      ]
     },
     "execution_count": 33,
     "metadata": {},
     "output_type": "execute_result"
    }
   ],
   "source": [
    "# First 2 rows\n",
    "sampleArray[:2]"
   ]
  },
  {
   "cell_type": "code",
   "execution_count": 34,
   "id": "db07ef04",
   "metadata": {},
   "outputs": [
    {
     "data": {
      "text/plain": [
       "array([[11, 22],\n",
       "       [44, 55]])"
      ]
     },
     "execution_count": 34,
     "metadata": {},
     "output_type": "execute_result"
    }
   ],
   "source": [
    "# first 2 rows and 2 columns\n",
    "sampleArray[:2,:2]"
   ]
  },
  {
   "cell_type": "markdown",
   "id": "817e9d29",
   "metadata": {},
   "source": [
    "## Exercise 4: Return array of odd rows and even columns from below numpy array"
   ]
  },
  {
   "cell_type": "code",
   "execution_count": 36,
   "id": "b0c2e133",
   "metadata": {},
   "outputs": [],
   "source": [
    "sampleArray = np.array([[3 ,6, 9, 12], [15 ,18, 21, 24], \n",
    "[27 ,30, 33, 36], [39 ,42, 45, 48], [51 ,54, 57, 60]])"
   ]
  },
  {
   "cell_type": "code",
   "execution_count": 37,
   "id": "d7e9110a",
   "metadata": {},
   "outputs": [
    {
     "data": {
      "text/plain": [
       "array([[ 3,  6,  9, 12],\n",
       "       [15, 18, 21, 24],\n",
       "       [27, 30, 33, 36],\n",
       "       [39, 42, 45, 48],\n",
       "       [51, 54, 57, 60]])"
      ]
     },
     "execution_count": 37,
     "metadata": {},
     "output_type": "execute_result"
    }
   ],
   "source": [
    "sampleArray"
   ]
  },
  {
   "cell_type": "code",
   "execution_count": 38,
   "id": "0ec477bd",
   "metadata": {},
   "outputs": [
    {
     "data": {
      "text/plain": [
       "array([[ 6, 12],\n",
       "       [30, 36],\n",
       "       [54, 60]])"
      ]
     },
     "execution_count": 38,
     "metadata": {},
     "output_type": "execute_result"
    }
   ],
   "source": [
    "sampleArray[0::2,1::2]"
   ]
  },
  {
   "cell_type": "markdown",
   "id": "6679245a",
   "metadata": {},
   "source": [
    "## Exercise 5: Create a result array by adding the following two NumPy arrays. "
   ]
  },
  {
   "cell_type": "code",
   "execution_count": 41,
   "id": "1fb87fdc",
   "metadata": {},
   "outputs": [],
   "source": [
    "arrayOne = np.array([[5, 6, 9], [21 ,18, 27]])\n",
    "arrayTwo = np.array([[15 ,33, 24], [4 ,7, 1]])"
   ]
  },
  {
   "cell_type": "code",
   "execution_count": 42,
   "id": "35cbf628",
   "metadata": {},
   "outputs": [],
   "source": [
    "a = arrayOne + arrayTwo"
   ]
  },
  {
   "cell_type": "code",
   "execution_count": 43,
   "id": "b811b802",
   "metadata": {},
   "outputs": [
    {
     "data": {
      "text/plain": [
       "array([[20, 39, 33],\n",
       "       [25, 25, 28]])"
      ]
     },
     "execution_count": 43,
     "metadata": {},
     "output_type": "execute_result"
    }
   ],
   "source": [
    "a"
   ]
  },
  {
   "cell_type": "markdown",
   "id": "83e5bd9a",
   "metadata": {},
   "source": [
    "## Exercise 6: Split the array into four equal-sized sub-arrays\n",
    "Note: Create an 8X3 integer array from a range between 10 to 34 such that the difference between each element is 1 and then Split the array into four equal-sized sub-arrays."
   ]
  },
  {
   "cell_type": "code",
   "execution_count": 55,
   "id": "ea1ab7f8",
   "metadata": {},
   "outputs": [],
   "source": [
    "b = np.arange(10,34,1).reshape((8*3))"
   ]
  },
  {
   "cell_type": "code",
   "execution_count": 56,
   "id": "e3711871",
   "metadata": {},
   "outputs": [
    {
     "data": {
      "text/plain": [
       "array([10, 11, 12, 13, 14, 15, 16, 17, 18, 19, 20, 21, 22, 23, 24, 25, 26,\n",
       "       27, 28, 29, 30, 31, 32, 33])"
      ]
     },
     "execution_count": 56,
     "metadata": {},
     "output_type": "execute_result"
    }
   ],
   "source": [
    "b"
   ]
  },
  {
   "cell_type": "code",
   "execution_count": 57,
   "id": "19e04423",
   "metadata": {},
   "outputs": [
    {
     "data": {
      "text/plain": [
       "array([10, 11, 12, 13, 14, 15, 16, 17, 18, 19, 20, 21, 22, 23, 24, 25, 26,\n",
       "       27, 28, 29, 30, 31, 32, 33])"
      ]
     },
     "execution_count": 57,
     "metadata": {},
     "output_type": "execute_result"
    }
   ],
   "source": [
    "b.reshape(6*4)"
   ]
  },
  {
   "cell_type": "code",
   "execution_count": null,
   "id": "dc07a34e",
   "metadata": {},
   "outputs": [],
   "source": []
  }
 ],
 "metadata": {
  "kernelspec": {
   "display_name": "Python 3 (ipykernel)",
   "language": "python",
   "name": "python3"
  },
  "language_info": {
   "codemirror_mode": {
    "name": "ipython",
    "version": 3
   },
   "file_extension": ".py",
   "mimetype": "text/x-python",
   "name": "python",
   "nbconvert_exporter": "python",
   "pygments_lexer": "ipython3",
   "version": "3.9.13"
  }
 },
 "nbformat": 4,
 "nbformat_minor": 5
}
